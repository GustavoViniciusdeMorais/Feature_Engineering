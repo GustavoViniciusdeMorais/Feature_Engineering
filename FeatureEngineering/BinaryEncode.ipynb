{
 "cells": [
  {
   "cell_type": "code",
   "execution_count": 3,
   "id": "83aec08b-c72f-454e-bde9-c5a2944d40d8",
   "metadata": {},
   "outputs": [],
   "source": [
    "import pandas as pd\n",
    "from category_encoders import BinaryEncoder"
   ]
  },
  {
   "cell_type": "code",
   "execution_count": 4,
   "id": "ed10ee7c-5d6a-42b8-8a30-a68811bb744f",
   "metadata": {},
   "outputs": [],
   "source": [
    "data = {'Color': ['Yellow', 'Yellow', 'Blue', 'Yellow', 'Red', 'Yellow', 'Red', 'Red', 'Yellow', 'Blue'],\n",
    "       'Target': [0,1,1,1,1,0,1,0,1,0]\n",
    "       }\n",
    "dataset = pd.DataFrame(data)"
   ]
  },
  {
   "cell_type": "code",
   "execution_count": 5,
   "id": "e8f2a7bf-f66b-4669-8490-e2e7c71ecd45",
   "metadata": {},
   "outputs": [
    {
     "data": {
      "text/html": [
       "<div>\n",
       "<style scoped>\n",
       "    .dataframe tbody tr th:only-of-type {\n",
       "        vertical-align: middle;\n",
       "    }\n",
       "\n",
       "    .dataframe tbody tr th {\n",
       "        vertical-align: top;\n",
       "    }\n",
       "\n",
       "    .dataframe thead th {\n",
       "        text-align: right;\n",
       "    }\n",
       "</style>\n",
       "<table border=\"1\" class=\"dataframe\">\n",
       "  <thead>\n",
       "    <tr style=\"text-align: right;\">\n",
       "      <th></th>\n",
       "      <th>Color</th>\n",
       "      <th>Target</th>\n",
       "    </tr>\n",
       "  </thead>\n",
       "  <tbody>\n",
       "    <tr>\n",
       "      <th>0</th>\n",
       "      <td>Yellow</td>\n",
       "      <td>0</td>\n",
       "    </tr>\n",
       "    <tr>\n",
       "      <th>1</th>\n",
       "      <td>Yellow</td>\n",
       "      <td>1</td>\n",
       "    </tr>\n",
       "    <tr>\n",
       "      <th>2</th>\n",
       "      <td>Blue</td>\n",
       "      <td>1</td>\n",
       "    </tr>\n",
       "    <tr>\n",
       "      <th>3</th>\n",
       "      <td>Yellow</td>\n",
       "      <td>1</td>\n",
       "    </tr>\n",
       "    <tr>\n",
       "      <th>4</th>\n",
       "      <td>Red</td>\n",
       "      <td>1</td>\n",
       "    </tr>\n",
       "  </tbody>\n",
       "</table>\n",
       "</div>"
      ],
      "text/plain": [
       "    Color  Target\n",
       "0  Yellow       0\n",
       "1  Yellow       1\n",
       "2    Blue       1\n",
       "3  Yellow       1\n",
       "4     Red       1"
      ]
     },
     "execution_count": 5,
     "metadata": {},
     "output_type": "execute_result"
    }
   ],
   "source": [
    "dataset.head()"
   ]
  },
  {
   "cell_type": "code",
   "execution_count": 18,
   "id": "91ab58ca-8563-4dfc-8de5-06ec65226622",
   "metadata": {},
   "outputs": [],
   "source": [
    "x_train = dataset.drop('Target', axis=1)\n",
    "y_train = dataset['Target']"
   ]
  },
  {
   "cell_type": "code",
   "execution_count": 21,
   "id": "c094a9f4-631c-47d3-96de-c1c7b354ca34",
   "metadata": {},
   "outputs": [],
   "source": [
    "binary = BinaryEncoder()"
   ]
  },
  {
   "cell_type": "code",
   "execution_count": 23,
   "id": "1d282923-bcd4-409e-b4e0-f07965b4e173",
   "metadata": {},
   "outputs": [],
   "source": [
    "result_binary_columns = binary.fit_transform(x_train, y_train)"
   ]
  },
  {
   "cell_type": "code",
   "execution_count": 48,
   "id": "7d959539-f1d5-4757-bbe8-de8e8514973b",
   "metadata": {},
   "outputs": [],
   "source": [
    "color0 = result_binary_columns['Color_0']\n",
    "color1 = result_binary_columns['Color_1']"
   ]
  },
  {
   "cell_type": "code",
   "execution_count": 53,
   "id": "82fd6f11-e701-4fb9-a8b7-8a703fcd5c7d",
   "metadata": {},
   "outputs": [],
   "source": [
    "new_dataset = pd.DataFrame({'color0':color0,'color1':color1,'class':y_train})"
   ]
  },
  {
   "cell_type": "code",
   "execution_count": 55,
   "id": "8fd60dac-5c71-4cad-a0d6-79c5dd816fe1",
   "metadata": {},
   "outputs": [
    {
     "data": {
      "text/html": [
       "<div>\n",
       "<style scoped>\n",
       "    .dataframe tbody tr th:only-of-type {\n",
       "        vertical-align: middle;\n",
       "    }\n",
       "\n",
       "    .dataframe tbody tr th {\n",
       "        vertical-align: top;\n",
       "    }\n",
       "\n",
       "    .dataframe thead th {\n",
       "        text-align: right;\n",
       "    }\n",
       "</style>\n",
       "<table border=\"1\" class=\"dataframe\">\n",
       "  <thead>\n",
       "    <tr style=\"text-align: right;\">\n",
       "      <th></th>\n",
       "      <th>color0</th>\n",
       "      <th>color1</th>\n",
       "      <th>class</th>\n",
       "    </tr>\n",
       "  </thead>\n",
       "  <tbody>\n",
       "    <tr>\n",
       "      <th>0</th>\n",
       "      <td>0</td>\n",
       "      <td>1</td>\n",
       "      <td>0</td>\n",
       "    </tr>\n",
       "    <tr>\n",
       "      <th>1</th>\n",
       "      <td>0</td>\n",
       "      <td>1</td>\n",
       "      <td>1</td>\n",
       "    </tr>\n",
       "    <tr>\n",
       "      <th>2</th>\n",
       "      <td>1</td>\n",
       "      <td>0</td>\n",
       "      <td>1</td>\n",
       "    </tr>\n",
       "    <tr>\n",
       "      <th>3</th>\n",
       "      <td>0</td>\n",
       "      <td>1</td>\n",
       "      <td>1</td>\n",
       "    </tr>\n",
       "    <tr>\n",
       "      <th>4</th>\n",
       "      <td>1</td>\n",
       "      <td>1</td>\n",
       "      <td>1</td>\n",
       "    </tr>\n",
       "  </tbody>\n",
       "</table>\n",
       "</div>"
      ],
      "text/plain": [
       "   color0  color1  class\n",
       "0       0       1      0\n",
       "1       0       1      1\n",
       "2       1       0      1\n",
       "3       0       1      1\n",
       "4       1       1      1"
      ]
     },
     "execution_count": 55,
     "metadata": {},
     "output_type": "execute_result"
    }
   ],
   "source": [
    "new_dataset.head()"
   ]
  }
 ],
 "metadata": {
  "kernelspec": {
   "display_name": "Python 3 (ipykernel)",
   "language": "python",
   "name": "python3"
  },
  "language_info": {
   "codemirror_mode": {
    "name": "ipython",
    "version": 3
   },
   "file_extension": ".py",
   "mimetype": "text/x-python",
   "name": "python",
   "nbconvert_exporter": "python",
   "pygments_lexer": "ipython3",
   "version": "3.10.4"
  }
 },
 "nbformat": 4,
 "nbformat_minor": 5
}
